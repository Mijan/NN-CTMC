{
 "cells": [
  {
   "cell_type": "code",
   "execution_count": 3,
   "outputs": [],
   "source": [
    "%load_ext autoreload\n",
    "%autoreload 2"
   ],
   "metadata": {
    "collapsed": false,
    "ExecuteTime": {
     "end_time": "2023-08-18T08:05:09.221159902Z",
     "start_time": "2023-08-18T08:05:09.167003009Z"
    }
   },
   "id": "8824aa7bd80f2dfd"
  },
  {
   "cell_type": "code",
   "execution_count": 5,
   "id": "initial_id",
   "metadata": {
    "collapsed": true,
    "ExecuteTime": {
     "end_time": "2023-08-18T08:05:27.283909971Z",
     "start_time": "2023-08-18T08:05:27.211290773Z"
    }
   },
   "outputs": [],
   "source": [
    "import tensorflow as tf\n",
    "from src.Simulator.SSA import SSASimulator\n",
    "import numpy as np"
   ]
  },
  {
   "cell_type": "markdown",
   "source": [
    "# NN for Birth Death Model"
   ],
   "metadata": {
    "collapsed": false
   },
   "id": "cb03fabdd306adb6"
  },
  {
   "cell_type": "code",
   "execution_count": 6,
   "outputs": [],
   "source": [
    "from src.Models.models import BirthDeath\n",
    "model_bd = BirthDeath()\n",
    "simulator_bd = SSASimulator(model_bd)\n",
    "\n",
    "parameters = model_bd.getDefaultParameter()\n",
    "y, t = simulator_bd.run_ssa(np.array([5]), 10000, parameters)"
   ],
   "metadata": {
    "collapsed": false,
    "ExecuteTime": {
     "end_time": "2023-08-18T08:05:31.793524552Z",
     "start_time": "2023-08-18T08:05:30.491674392Z"
    }
   },
   "id": "7771b7cb333adc1f"
  },
  {
   "cell_type": "code",
   "execution_count": null,
   "outputs": [],
   "source": [
    "BD_Model = tf.keras.models.Sequential([\n",
    "    tf.keras.layers.Input((3,)),\n",
    "    tf.keras.layers.Dense(128, activation = tf.keras.activations.selu),\n",
    "    tf.keras.layers.Dense(128, activation = tf.keras.activations.selu),\n",
    "    tf.keras.layers.Dense(2, activation=tf.keras.activations.softplus)\n",
    "    ])"
   ],
   "metadata": {
    "collapsed": false
   },
   "id": "ba8203233a4ed9f6"
  }
 ],
 "metadata": {
  "kernelspec": {
   "display_name": "Python 3",
   "language": "python",
   "name": "python3"
  },
  "language_info": {
   "codemirror_mode": {
    "name": "ipython",
    "version": 2
   },
   "file_extension": ".py",
   "mimetype": "text/x-python",
   "name": "python",
   "nbconvert_exporter": "python",
   "pygments_lexer": "ipython2",
   "version": "2.7.6"
  }
 },
 "nbformat": 4,
 "nbformat_minor": 5
}
